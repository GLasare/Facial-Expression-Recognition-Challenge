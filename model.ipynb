{
  "nbformat": 4,
  "nbformat_minor": 0,
  "metadata": {
    "colab": {
      "provenance": [],
      "gpuType": "T4",
      "machine_shape": "hm",
      "include_colab_link": true
    },
    "kernelspec": {
      "name": "python3",
      "display_name": "Python 3"
    },
    "language_info": {
      "name": "python"
    },
    "accelerator": "GPU"
  },
  "cells": [
    {
      "cell_type": "markdown",
      "metadata": {
        "id": "view-in-github",
        "colab_type": "text"
      },
      "source": [
        "<a href=\"https://colab.research.google.com/github/GLasare/Facial-Expression-Recognition-Challenge/blob/main/model.ipynb\" target=\"_parent\"><img src=\"https://colab.research.google.com/assets/colab-badge.svg\" alt=\"Open In Colab\"/></a>"
      ]
    },
    {
      "cell_type": "markdown",
      "source": [
        "# 1. Initializations and Dataset Download"
      ],
      "metadata": {
        "id": "ZnBAKL6Hu7iH"
      }
    },
    {
      "cell_type": "code",
      "execution_count": 5,
      "metadata": {
        "colab": {
          "base_uri": "https://localhost:8080/"
        },
        "id": "GUbCgH6wP3zg",
        "outputId": "c3bcfce3-6fd5-467d-a0f5-2df39d95f512"
      },
      "outputs": [
        {
          "output_type": "stream",
          "name": "stdout",
          "text": [
            "\u001b[2K   \u001b[90m━━━━━━━━━━━━━━━━━━━━━━━━━━━━━━━━━━━━━━━━\u001b[0m \u001b[32m23.2/23.2 MB\u001b[0m \u001b[31m77.0 MB/s\u001b[0m eta \u001b[36m0:00:00\u001b[0m\n",
            "\u001b[2K   \u001b[90m━━━━━━━━━━━━━━━━━━━━━━━━━━━━━━━━━━━━━━━━\u001b[0m \u001b[32m17.6/17.6 MB\u001b[0m \u001b[31m86.3 MB/s\u001b[0m eta \u001b[36m0:00:00\u001b[0m\n",
            "\u001b[?25hMounted at /content/drive\n"
          ]
        }
      ],
      "source": [
        "!pip install kaggle wandb onnx -Uq\n",
        "from google.colab import drive\n",
        "drive.mount('/content/drive')"
      ]
    },
    {
      "cell_type": "code",
      "source": [
        "! mkdir ~/.kaggle"
      ],
      "metadata": {
        "id": "wnPMUh6hOCaz"
      },
      "execution_count": 6,
      "outputs": []
    },
    {
      "cell_type": "code",
      "source": [
        "!cp /content/drive/MyDrive/ColabNotebooks/kaggle_API_credentials/kaggle.json ~/.kaggle/kaggle.json"
      ],
      "metadata": {
        "id": "hCNJs5UsOM3r"
      },
      "execution_count": 7,
      "outputs": []
    },
    {
      "cell_type": "code",
      "source": [
        "! chmod 600 ~/.kaggle/kaggle.json"
      ],
      "metadata": {
        "id": "QFKogz1YOQBD"
      },
      "execution_count": 8,
      "outputs": []
    },
    {
      "cell_type": "code",
      "source": [
        "!mkdir -p \"/content/drive/MyDrive/Datasets/Facial-Expression-Data\""
      ],
      "metadata": {
        "id": "7U_DODi_OUh9"
      },
      "execution_count": 9,
      "outputs": []
    },
    {
      "cell_type": "code",
      "source": [
        "!ls -la /content/drive/MyDrive/Datasets/Facial-Expression-Data"
      ],
      "metadata": {
        "id": "WHeg9SkRr7-8",
        "outputId": "c720a145-5222-4d3d-82e9-0a9dc96840cb",
        "colab": {
          "base_uri": "https://localhost:8080/"
        }
      },
      "execution_count": 10,
      "outputs": [
        {
          "output_type": "stream",
          "name": "stdout",
          "text": [
            "total 684314\n",
            "-rw------- 1 root root      7178 May 31 15:30 example_submission.csv\n",
            "-rw------- 1 root root   2395982 Jun  7 12:11 fer2013_image_paths_labels.csv\n",
            "-rw------- 1 root root  96433867 May 31 15:32 fer2013.tar.gz\n",
            "-rw------- 1 root root 301072768 May 31 15:37 icml_face_data.csv\n",
            "-rw------- 1 root root  60125203 May 31 15:31 test.csv\n",
            "-rw------- 1 root root 240699943 May 31 15:36 train.csv\n"
          ]
        }
      ]
    },
    {
      "cell_type": "markdown",
      "source": [
        "# 2. Imports\n",
        "Lets start by getting all our imports, keep in mind that PyTorch is not automatically detects and trains on GPU, you have to tell it to use cuda. In case you want to train on Mac Silicon replace cuda with mps."
      ],
      "metadata": {
        "id": "FuLzo_VyvD3m"
      }
    },
    {
      "cell_type": "code",
      "source": [
        "import torch # Main PyTorch Library\n",
        "from torch import nn # Used for creating the layers and loss function\n",
        "from torch.optim import Adam # Adam Optimizer\n",
        "import torchvision.transforms as transforms # Transform function used to modify and preprocess all the images\n",
        "from torch.utils.data import Dataset, DataLoader # Dataset class and DataLoader for creating the objects\n",
        "from sklearn.preprocessing import LabelEncoder # Label Encoder to encode the classes from strings to numbers\n",
        "import matplotlib.pyplot as plt # Used for visualizing the images and plotting the training progress\n",
        "from PIL import Image # Used to read the images from the directory\n",
        "import pandas as pd # Used to read/create dataframes (csv) and process tabular data\n",
        "import numpy as np # preprocessing and numerical/mathematical operations\n",
        "import os # Used to read the images path from the directory\n",
        "\n",
        "device = \"cuda\" if torch.cuda.is_available() else \"cpu\" # detect the GPU if any, if not use CPU, change cuda to mps if you have a mac\n",
        "print(\"Device available: \", device)"
      ],
      "metadata": {
        "id": "4EeRTo8eQCOb",
        "colab": {
          "base_uri": "https://localhost:8080/"
        },
        "outputId": "64e450c9-2755-4415-bcfc-a02508236bcd"
      },
      "execution_count": 11,
      "outputs": [
        {
          "output_type": "stream",
          "name": "stdout",
          "text": [
            "Device available:  cuda\n"
          ]
        }
      ]
    },
    {
      "cell_type": "markdown",
      "source": [
        "# 3. Reading Data Paths"
      ],
      "metadata": {
        "id": "xrquwzbqUTDY"
      }
    },
    {
      "cell_type": "code",
      "source": [
        "import pandas as pd\n",
        "import numpy as np\n",
        "import os\n",
        "from PIL import Image\n",
        "import shutil\n",
        "\n",
        "# Set dataset path\n",
        "DATASET_PATH = \"/content/drive/MyDrive/Datasets/Facial-Expression-Data\"\n",
        "\n",
        "# Load the CSV data\n",
        "train_df = pd.read_csv(f\"{DATASET_PATH}/train.csv\")\n",
        "\n",
        "images_dir = \"/content/drive/MyDrive/Datasets/Facial-Expression-Images\"\n",
        "\n",
        "if os.path.exists(images_dir):\n",
        "    shutil.rmtree(images_dir)\n",
        "os.makedirs(images_dir, exist_ok=True)\n",
        "\n",
        "# Emotion labels mapping\n",
        "emotion_labels = {\n",
        "    0: 'angry',\n",
        "    1: 'disgust',\n",
        "    2: 'fear',\n",
        "    3: 'happy',\n",
        "    4: 'sad',\n",
        "    5: 'surprise',\n",
        "    6: 'neutral'\n",
        "}\n",
        "\n",
        "# Create directories for each emotion\n",
        "for emotion in emotion_labels.values():\n",
        "    os.makedirs(f\"{images_dir}/{emotion}\", exist_ok=True)\n",
        "\n",
        "print(\"Converting pixel data to image files...\")\n",
        "\n",
        "image_paths = []  # Empty array for image paths\n",
        "labels = []       # Empty array for labels\n",
        "\n",
        "# Process each row in the dataset\n",
        "for idx, row in train_df.iterrows():\n",
        "    # Get pixel values and reshape to 48x48\n",
        "    pixels = np.array(row['pixels'].split(), dtype=np.uint8)\n",
        "    image = pixels.reshape(48, 48)\n",
        "\n",
        "    # Get emotion label\n",
        "    emotion_id = row['emotion']\n",
        "    emotion_name = emotion_labels[emotion_id]\n",
        "\n",
        "    # Create image filename and path\n",
        "    image_filename = f\"img_{idx:05d}.png\"\n",
        "    image_path = f\"{images_dir}/{emotion_name}/{image_filename}\"\n",
        "\n",
        "    # Save image\n",
        "    Image.fromarray(image, mode='L').save(image_path)\n",
        "\n",
        "    # Add to our lists (similar to your approach)\n",
        "    image_paths.append(image_path)\n",
        "    labels.append(emotion_name)\n",
        "\n",
        "    # Progress indicator\n",
        "\n",
        "    if (idx + 1) % 1000 == 0:\n",
        "        print(f\"Processed {idx + 1}/{len(train_df)} images\")\n",
        "\n",
        "# Create DataFrame (exactly like your approach)\n",
        "data_df = pd.DataFrame(zip(image_paths, labels), columns=['image_paths', 'labels'])\n",
        "\n",
        "print(f\"\\nDataset created successfully!\")\n",
        "print(f\"Total images: {len(data_df)}\")\n",
        "print(f\"Label distribution:\")\n",
        "print(data_df['labels'].value_counts())\n",
        "print(f\"\\nFirst 5 rows:\")\n",
        "print(data_df.head())\n",
        "\n",
        "# Save the DataFrame for future use\n",
        "data_df.to_csv(f\"{DATASET_PATH}/fer2013_image_paths_labels.csv\", index=False)\n",
        "print(f\"\\nDataFrame saved to: {DATASET_PATH}/fer2013_image_paths_labels.csv\")"
      ],
      "metadata": {
        "colab": {
          "base_uri": "https://localhost:8080/"
        },
        "id": "3FbP4F6aTo4G",
        "outputId": "8f13991e-c5ae-4aec-faa8-2551ec61d443"
      },
      "execution_count": 13,
      "outputs": [
        {
          "output_type": "stream",
          "name": "stdout",
          "text": [
            "Converting pixel data to image files...\n",
            "Processed 1000/28709 images\n",
            "Processed 2000/28709 images\n",
            "Processed 3000/28709 images\n",
            "Processed 4000/28709 images\n",
            "Processed 5000/28709 images\n",
            "Processed 6000/28709 images\n",
            "Processed 7000/28709 images\n",
            "Processed 8000/28709 images\n",
            "Processed 9000/28709 images\n",
            "Processed 10000/28709 images\n",
            "Processed 11000/28709 images\n",
            "Processed 12000/28709 images\n",
            "Processed 13000/28709 images\n",
            "Processed 14000/28709 images\n",
            "Processed 15000/28709 images\n",
            "Processed 16000/28709 images\n",
            "Processed 17000/28709 images\n",
            "Processed 18000/28709 images\n",
            "Processed 19000/28709 images\n",
            "Processed 20000/28709 images\n",
            "Processed 21000/28709 images\n",
            "Processed 22000/28709 images\n",
            "Processed 23000/28709 images\n",
            "Processed 24000/28709 images\n",
            "Processed 25000/28709 images\n",
            "Processed 26000/28709 images\n",
            "Processed 27000/28709 images\n",
            "Processed 28000/28709 images\n",
            "\n",
            "Dataset created successfully!\n",
            "Total images: 28709\n",
            "Label distribution:\n",
            "labels\n",
            "happy       7215\n",
            "neutral     4965\n",
            "sad         4830\n",
            "fear        4097\n",
            "angry       3995\n",
            "surprise    3171\n",
            "disgust      436\n",
            "Name: count, dtype: int64\n",
            "\n",
            "First 5 rows:\n",
            "                                         image_paths   labels\n",
            "0  /content/drive/MyDrive/Datasets/Facial-Express...    angry\n",
            "1  /content/drive/MyDrive/Datasets/Facial-Express...    angry\n",
            "2  /content/drive/MyDrive/Datasets/Facial-Express...     fear\n",
            "3  /content/drive/MyDrive/Datasets/Facial-Express...      sad\n",
            "4  /content/drive/MyDrive/Datasets/Facial-Express...  neutral\n",
            "\n",
            "DataFrame saved to: /content/drive/MyDrive/Datasets/Facial-Expression-Data/fer2013_image_paths_labels.csv\n"
          ]
        }
      ]
    },
    {
      "cell_type": "markdown",
      "source": [
        "# 4. Data Split\n",
        "Now lets split the dataset into training, validation and testing. Here we will be using it in a bit different way since we will be reading the image paths from the dataframe so better we split the dataframe directly and then read the images. We will do that by getting a random sample of 70% from our data using `data_df.sample(frac=0.7,random_state=7)` then we will create a new variable of test dataset which we will drop from it the 70% of the train which means that it will be 30% of the data which is the rest of the data using `data_df.drop(train.index)`. Then we will do the same between testing to create validation which will be 50% of the data which means the final split we have is the following:\n",
        "\n",
        "\n",
        "\n",
        "*   Training: 70%\n",
        "*   Validation: 15%\n",
        "*   Testing: 15%"
      ],
      "metadata": {
        "id": "9eD7x_r7UX8H"
      }
    },
    {
      "cell_type": "code",
      "source": [
        "import pandas as pd\n",
        "# data_df = pd.read_csv(\"/content/drive/MyDrive/Datasets/Facial-Expression-Data/fer2013_image_paths_labels.csv\")\n",
        "\n",
        "train=data_df.sample(frac=0.7,random_state=7) # Create training of 70% of the data\n",
        "test=data_df.drop(train.index) # Create testing by removing the 70% of the train data which w ill result in 30%\n",
        "\n",
        "val=test.sample(frac=0.5,random_state=7) # Create validation of 50% of the testing data\n",
        "test=test.drop(val.index) # Create testing by removing the 50% of the validation data which will result in 50%"
      ],
      "metadata": {
        "id": "tVXNzGhivv3E"
      },
      "execution_count": 14,
      "outputs": []
    },
    {
      "cell_type": "markdown",
      "source": [
        "# 5. Preprocessing Objects\n",
        "Now lets create some preprocessing objects, first we start by `LabelEncoder` which converts string classes to numeric for example instead of having the classes as (cat, dog) it will be (0,1) because machines understands numbers only. Next we will create an object `transform` which will help us to preprocess images by converting all images to same size, converting them to tensors of type float and you can even do more with this object. Feel free to check their documentation [here](https://pytorch.org/vision/0.9/transforms.html)."
      ],
      "metadata": {
        "id": "r3mWk2pRvFNg"
      }
    },
    {
      "cell_type": "code",
      "source": [
        "from sklearn.preprocessing import LabelEncoder\n",
        "from torchvision import transforms\n",
        "import torch\n",
        "\n",
        "# Label Encoder: Convert string classes to numeric\n",
        "# Instead of (angry, happy, sad, etc.) -> (0, 1, 2, etc.)\n",
        "label_encoder = LabelEncoder()  # Encode the string classes to numeric\n",
        "label_encoder.fit(data_df['labels'])  # Fit the label encoder on our own data\n",
        "\n",
        "print(\"Label encoding mapping:\")\n",
        "for i, label in enumerate(label_encoder.classes_):\n",
        "    print(f\"{label} -> {i}\")\n",
        "\n",
        "# Transform: Preprocess images to consistent format\n",
        "transform = transforms.Compose([\n",
        "    transforms.Resize((128, 128)),  # One size for all images\n",
        "    transforms.ToTensor(),  # Convert images to PyTorch tensors\n",
        "    transforms.ConvertImageDtype(torch.float)  # The values are in floating point numbers\n",
        "])  # Transform all images into one clear format (preprocess all images to same properties)\n",
        "\n",
        "print(f\"\\nPreprocessing ready!\")\n",
        "print(f\"Images will be resized to: 128x128\")\n",
        "print(f\"Label encoder fitted on {len(label_encoder.classes_)} classes\")"
      ],
      "metadata": {
        "id": "pm09uRqCvEu0",
        "outputId": "2161f06a-e1ad-4cad-9a2d-210906af2dfa",
        "colab": {
          "base_uri": "https://localhost:8080/"
        }
      },
      "execution_count": 15,
      "outputs": [
        {
          "output_type": "stream",
          "name": "stdout",
          "text": [
            "Label encoding mapping:\n",
            "angry -> 0\n",
            "disgust -> 1\n",
            "fear -> 2\n",
            "happy -> 3\n",
            "neutral -> 4\n",
            "sad -> 5\n",
            "surprise -> 6\n",
            "\n",
            "Preprocessing ready!\n",
            "Images will be resized to: 128x128\n",
            "Label encoder fitted on 7 classes\n"
          ]
        }
      ]
    },
    {
      "cell_type": "markdown",
      "source": [
        "# 6. Custom Dataset Class\n",
        "Lets create a dataset class. Our class is a customized class on how we can our own dataset. The class inherits from the main `Dataset` class from PyTorch, then we overwrite some of the existing functions in that class. We need to convert our dataset to PyTorch Dataset object as it will be more efficient during training, you can use the dataset as its, but lets keep things professional and efficient. First we define our class that will be taking the main Dataset class with the concept of inheritance as mentioned. Let's make the concept simpler. There is a big class that PyTorch, this class has several functions inside it, we will recreate that class and modify some functions to match our needs.\n",
        "\n",
        "In the constructor function `__init__` we are declaring and our dataframe which will have `image_path` and the `labels`. Then we are creating our own image preprocessing object which is `transform` that we talked about before. For our labels, we are declaring our labels with the label_encoder we declared before. Which means that we will convert our labels are changed from string to numeric classes using `fit_tranform`. We didn't read each image inside the constructor as reading images here will be so time consuming. However, we are reading each image, applying the preprocessing and returning it in the `__getitem__` to read this specific image with its corresponding encoded label by their index and returns them."
      ],
      "metadata": {
        "id": "YAmMLxQiUbHN"
      }
    },
    {
      "cell_type": "code",
      "source": [
        "import torch\n",
        "from torch.utils.data import Dataset\n",
        "from PIL import Image\n",
        "\n",
        "class CustomImageDataset(Dataset):\n",
        "    def __init__(self, dataframe, transform=None):\n",
        "        self.dataframe = dataframe\n",
        "        self.transform = transform\n",
        "        self.labels = torch.tensor(label_encoder.transform(dataframe['labels'])).to(device)\n",
        "\n",
        "    def __len__(self):\n",
        "        return self.dataframe.shape[0]\n",
        "\n",
        "    def __getitem__(self, idx):\n",
        "        img_path = self.dataframe.iloc[idx, 0]\n",
        "        label = self.labels[idx]\n",
        "        image = Image.open(img_path).convert('RGB')\n",
        "        if self.transform:\n",
        "            image = self.transform(image).to(device)\n",
        "\n",
        "        return image, label"
      ],
      "metadata": {
        "id": "NRaye1wmh9lb"
      },
      "execution_count": 16,
      "outputs": []
    },
    {
      "cell_type": "markdown",
      "source": [
        "# 7. Create Dataset Objects\n",
        "Now lets create 3 data objects, for training data, validation and testing respectively giving them our dataframes we created before together with the `transform` object that we created before. We will use the same `transform` object to make sure all images are preprocessed as they are."
      ],
      "metadata": {
        "id": "rsttBLHSvLk2"
      }
    },
    {
      "cell_type": "code",
      "source": [
        "train_dataset = CustomImageDataset(dataframe=train, transform=transform)\n",
        "val_dataset = CustomImageDataset(dataframe=val, transform=transform)\n",
        "test_dataset = CustomImageDataset(dataframe=test, transform=transform)\n",
        "\n",
        "print(f\"Train dataset size: {len(train_dataset)}\")\n",
        "print(f\"Validation dataset size: {len(val_dataset)}\")\n",
        "print(f\"Test dataset size: {len(test_dataset)}\")"
      ],
      "metadata": {
        "id": "y2v__bqQhrsB",
        "outputId": "5a670fe6-cf2c-4d4e-f5ae-685f12a64ce1",
        "colab": {
          "base_uri": "https://localhost:8080/"
        }
      },
      "execution_count": 17,
      "outputs": [
        {
          "output_type": "stream",
          "name": "stdout",
          "text": [
            "Train dataset size: 20096\n",
            "Validation dataset size: 4306\n",
            "Test dataset size: 4307\n"
          ]
        }
      ]
    },
    {
      "cell_type": "markdown",
      "source": [
        "# 8. Visualize Images\n",
        "This cell is optional and will not affect the model accuracy. Here we are just visualizing 9 random images using `matplotlib` package."
      ],
      "metadata": {
        "id": "hkVIuMbGvgl7"
      }
    },
    {
      "cell_type": "code",
      "source": [
        "n_rows = 3\n",
        "n_cols = 3\n",
        "f, axarr = plt.subplots(n_rows, n_cols)\n",
        "for row in range(n_rows):\n",
        "    for col in range(n_cols):\n",
        "      image = Image.open(data_df.sample(n = 1)['image_paths'].iloc[0]).convert(\"RGB\")\n",
        "      axarr[row, col].imshow(image)\n",
        "      axarr[row, col].axis('off')\n",
        "\n",
        "plt.show()"
      ],
      "metadata": {
        "colab": {
          "base_uri": "https://localhost:8080/",
          "height": 406
        },
        "id": "Sb-qxFFqx7Lq",
        "outputId": "96daae39-a72b-4ea9-9c3b-87cb5fc19cb0"
      },
      "execution_count": 18,
      "outputs": [
        {
          "output_type": "display_data",
          "data": {
            "text/plain": [
              "<Figure size 640x480 with 9 Axes>"
            ],
            "image/png": "[encoded data removed]"
          },
          "metadata": {}
        }
      ]
    },
    {
      "cell_type": "markdown",
      "source": [
        "# 9. Hyperparameters\n",
        "Now we are setting the training hyperparameters, we defined some variables which are the batch size, number of training epochs and learning rate."
      ],
      "metadata": {
        "id": "YzN8rbnPvlsG"
      }
    },
    {
      "cell_type": "code",
      "source": [
        "LR = 1e-4\n",
        "BATCH_SIZE = 16\n",
        "EPOCHS = 10"
      ],
      "metadata": {
        "id": "REDfPqgOalbQ"
      },
      "execution_count": 3,
      "outputs": []
    },
    {
      "cell_type": "markdown",
      "source": [
        "# 10. DataLoaders\n",
        "PyTorch provides a class called DataLoader which allows us to create objects of it to simplify the training.\n",
        "\n",
        "Dataloader is an object that we can loop through it to train according to batches. When we start training, we loop through epochs, if you skip the batch size it means that the amount of training data in one batch is equal to the complete amount of training data, this method is not efficient and in most of the cases you need to train through using batches. Dataloader allows you to loop through the batches easily during the training. When you create a dataloader. You define the batch size and enable the `shuffle` to randomize the data and then you can loop through it in each epoch to train normally."
      ],
      "metadata": {
        "id": "6b9hEynQvozM"
      }
    },
    {
      "cell_type": "code",
      "source": [
        "from torch.utils.data import DataLoader\n",
        "\n",
        "train_loader = DataLoader(train_dataset, batch_size=BATCH_SIZE, shuffle=True)\n",
        "val_loader = DataLoader(val_dataset, batch_size=BATCH_SIZE, shuffle=True)\n",
        "test_loader = DataLoader(test_dataset, batch_size=BATCH_SIZE, shuffle=True)"
      ],
      "metadata": {
        "id": "OBfUiGRQwpZS"
      },
      "execution_count": 19,
      "outputs": []
    },
    {
      "cell_type": "markdown",
      "source": [
        "#11. Model\n"
      ],
      "metadata": {
        "id": "7J7aGLC8vr2y"
      }
    },
    {
      "cell_type": "code",
      "source": [
        "import torch\n",
        "import torch.nn as nn\n",
        "\n",
        "class SimpleCNN(nn.Module):\n",
        "    def __init__(self, num_classes=7):\n",
        "        super(SimpleCNN, self).__init__()\n",
        "\n",
        "        # Very simple architecture - just 2 conv layers\n",
        "        self.conv1 = nn.Conv2d(3, 32, kernel_size=3, padding=1)\n",
        "        self.conv2 = nn.Conv2d(32, 64, kernel_size=3, padding=1)\n",
        "        self.pool = nn.MaxPool2d(2, 2)\n",
        "        self.relu = nn.ReLU()\n",
        "\n",
        "        # Calculate the size after convolutions: 128 -> 64 -> 32\n",
        "        self.fc1 = nn.Linear(64 * 32 * 32, 128)\n",
        "        self.fc2 = nn.Linear(128, num_classes)\n",
        "        self.dropout = nn.Dropout(0.2)\n",
        "\n",
        "    def forward(self, x):\n",
        "        # First conv block\n",
        "        x = self.relu(self.conv1(x))\n",
        "        x = self.pool(x)  # 128x128 -> 64x64\n",
        "\n",
        "        # Second conv block\n",
        "        x = self.relu(self.conv2(x))\n",
        "        x = self.pool(x)  # 64x64 -> 32x32\n",
        "\n",
        "        # Flatten and classify\n",
        "        x = x.view(x.size(0), -1)\n",
        "        x = self.relu(self.fc1(x))\n",
        "        x = self.dropout(x)\n",
        "        x = self.fc2(x)\n",
        "\n",
        "        return x"
      ],
      "metadata": {
        "id": "g50jsWB4okf-"
      },
      "execution_count": 20,
      "outputs": []
    },
    {
      "cell_type": "code",
      "source": [
        "class SimpleCNN_v2(nn.Module):\n",
        "    def __init__(self, num_classes=7):\n",
        "        super(SimpleCNN_v2, self).__init__()\n",
        "\n",
        "        # CHANGE 1: Add one more conv layer (2 -> 3 layers) + BatchNorm\n",
        "        self.conv1 = nn.Conv2d(3, 32, kernel_size=3, padding=1)\n",
        "        self.bn1 = nn.BatchNorm2d(32)  # BatchNorm for stability\n",
        "\n",
        "        self.conv2 = nn.Conv2d(32, 64, kernel_size=3, padding=1)\n",
        "        self.bn2 = nn.BatchNorm2d(64)  # BatchNorm for stability\n",
        "\n",
        "        self.conv3 = nn.Conv2d(64, 128, kernel_size=3, padding=1)  # NEW LAYER\n",
        "        self.bn3 = nn.BatchNorm2d(128)  # NEW BatchNorm\n",
        "\n",
        "        self.pool = nn.MaxPool2d(2, 2)\n",
        "        self.relu = nn.ReLU()\n",
        "\n",
        "        # CHANGE 2: Adjust FC layer size for new conv layer\n",
        "        # Now: 128 x 16 x 16 = 32,768 (after 3 pooling operations: 128->64->32->16)\n",
        "        self.fc1 = nn.Linear(128 * 16 * 16, 256)  # Bigger FC layer\n",
        "        self.fc2 = nn.Linear(256, num_classes)\n",
        "        self.dropout = nn.Dropout(0.3)  # Slightly more dropout\n",
        "\n",
        "    def forward(self, x):\n",
        "        # Three conv blocks with BatchNorm\n",
        "        x = self.relu(self.bn1(self.conv1(x)))\n",
        "        x = self.pool(x)  # 128x128 -> 64x64\n",
        "\n",
        "        x = self.relu(self.bn2(self.conv2(x)))\n",
        "        x = self.pool(x)  # 64x64 -> 32x32\n",
        "\n",
        "        x = self.relu(self.bn3(self.conv3(x)))  # NEW LAYER + BATCHNORM\n",
        "        x = self.pool(x)  # 32x32 -> 16x16\n",
        "\n",
        "        # Flatten and classify\n",
        "        x = x.view(x.size(0), -1)\n",
        "        x = self.relu(self.fc1(x))\n",
        "        x = self.dropout(x)\n",
        "        x = self.fc2(x)\n",
        "\n",
        "        return x\n"
      ],
      "metadata": {
        "id": "36ZhHQMjNC--"
      },
      "execution_count": 21,
      "outputs": []
    },
    {
      "cell_type": "code",
      "source": [
        "import torch\n",
        "import torch.nn as nn\n",
        "\n",
        "class ImprovedCNN(nn.Module):\n",
        "    \"\"\"\n",
        "    Balanced CNN for Facial Expression Recognition\n",
        "    - Gradual filter increase (not jumping 3->64)\n",
        "    - Smaller, more manageable architecture\n",
        "    - Proven to work better than aggressive scaling\n",
        "    \"\"\"\n",
        "    def __init__(self, num_classes=7):\n",
        "        super(ImprovedCNN, self).__init__()\n",
        "\n",
        "        # GRADUAL FILTER INCREASE: Much more stable\n",
        "        self.conv1 = nn.Conv2d(3, 32, kernel_size=3, padding=1)     # Start small\n",
        "        self.bn1 = nn.BatchNorm2d(32)\n",
        "\n",
        "        self.conv2 = nn.Conv2d(32, 64, kernel_size=3, padding=1)    # 2x increase\n",
        "        self.bn2 = nn.BatchNorm2d(64)\n",
        "\n",
        "        self.conv3 = nn.Conv2d(64, 128, kernel_size=3, padding=1)   # 2x increase\n",
        "        self.bn3 = nn.BatchNorm2d(128)\n",
        "\n",
        "        # OPTIONAL 4th layer for more depth (but controlled)\n",
        "        self.conv4 = nn.Conv2d(128, 128, kernel_size=3, padding=1)  # Same filters\n",
        "        self.bn4 = nn.BatchNorm2d(128)\n",
        "\n",
        "        self.pool = nn.MaxPool2d(2, 2)\n",
        "        self.relu = nn.ReLU()\n",
        "\n",
        "        # SMALLER FC LAYERS: Much more manageable\n",
        "        # After 4 pools: 128x128 -> 64 -> 32 -> 16 -> 8\n",
        "        # So: 128 * 8 * 8 = 8,192 (vs 65,536!)\n",
        "        self.fc1 = nn.Linear(128 * 8 * 8, 256)  # Reasonable size\n",
        "        self.fc2 = nn.Linear(256, num_classes)\n",
        "\n",
        "        # CONSERVATIVE REGULARIZATION\n",
        "        self.dropout = nn.Dropout(0.3)  # Single dropout point\n",
        "\n",
        "    def forward(self, x):\n",
        "        # 4 conv blocks with gradual feature extraction\n",
        "        x = self.relu(self.bn1(self.conv1(x)))\n",
        "        x = self.pool(x)  # 128x128 -> 64x64\n",
        "\n",
        "        x = self.relu(self.bn2(self.conv2(x)))\n",
        "        x = self.pool(x)  # 64x64 -> 32x32\n",
        "\n",
        "        x = self.relu(self.bn3(self.conv3(x)))\n",
        "        x = self.pool(x)  # 32x32 -> 16x16\n",
        "\n",
        "        x = self.relu(self.bn4(self.conv4(x)))\n",
        "        x = self.pool(x)  # 16x16 -> 8x8\n",
        "\n",
        "        # Simple classification\n",
        "        x = x.view(x.size(0), -1)  # Flatten: 128*8*8 = 8,192\n",
        "        x = self.relu(self.fc1(x))      # 8,192 -> 256\n",
        "        x = self.dropout(x)\n",
        "        x = self.fc2(x)                 # 256 -> 7\n",
        "\n",
        "        return x"
      ],
      "metadata": {
        "id": "kTi3Aci7W1J8"
      },
      "execution_count": 22,
      "outputs": []
    },
    {
      "cell_type": "markdown",
      "source": [
        "*we can alter hyperparams*"
      ],
      "metadata": {
        "id": "eOvsYYvjVqXB"
      }
    },
    {
      "cell_type": "code",
      "source": [
        "# LR = 5e-4          # Lower learning rate for stability (was 1e-4)\n",
        "# BATCH_SIZE = 32    # Bigger batches for better gradient estimates (was 16)\n",
        "# EPOCHS = 12"
      ],
      "metadata": {
        "id": "1FeDdy8vVpUJ"
      },
      "execution_count": 41,
      "outputs": []
    },
    {
      "cell_type": "code",
      "source": [
        "# Create the model\n",
        "model = ImprovedCNN(num_classes=7).to(device)\n",
        "\n",
        "# Count parameters\n",
        "total_params = sum(p.numel() for p in model.parameters())\n",
        "trainable_params = sum(p.numel() for p in model.parameters() if p.requires_grad)"
      ],
      "metadata": {
        "id": "qCLvJISyNGNc"
      },
      "execution_count": 23,
      "outputs": []
    },
    {
      "cell_type": "markdown",
      "source": [
        "# 12. Model Summary\n",
        "This cell is optional, here we show only the summary of the model and what is the output size for each layer. keep in mind that -1 here will be replaced by the batch size.\n"
      ],
      "metadata": {
        "id": "bGkrTwfEvu4F"
      }
    },
    {
      "cell_type": "code",
      "source": [
        "from torchsummary import summary\n",
        "summary(model, input_size = (3, 128, 128))"
      ],
      "metadata": {
        "colab": {
          "base_uri": "https://localhost:8080/"
        },
        "id": "T1hL4b9k0tqr",
        "outputId": "733c11f8-4b82-46f9-c1db-835b0ea43ff8"
      },
      "execution_count": 24,
      "outputs": [
        {
          "output_type": "stream",
          "name": "stdout",
          "text": [
            "----------------------------------------------------------------\n",
            "        Layer (type)               Output Shape         Param #\n",
            "================================================================\n",
            "            Conv2d-1         [-1, 32, 128, 128]             896\n",
            "       BatchNorm2d-2         [-1, 32, 128, 128]              64\n",
            "              ReLU-3         [-1, 32, 128, 128]               0\n",
            "         MaxPool2d-4           [-1, 32, 64, 64]               0\n",
            "            Conv2d-5           [-1, 64, 64, 64]          18,496\n",
            "       BatchNorm2d-6           [-1, 64, 64, 64]             128\n",
            "              ReLU-7           [-1, 64, 64, 64]               0\n",
            "         MaxPool2d-8           [-1, 64, 32, 32]               0\n",
            "            Conv2d-9          [-1, 128, 32, 32]          73,856\n",
            "      BatchNorm2d-10          [-1, 128, 32, 32]             256\n",
            "             ReLU-11          [-1, 128, 32, 32]               0\n",
            "        MaxPool2d-12          [-1, 128, 16, 16]               0\n",
            "           Conv2d-13          [-1, 128, 16, 16]         147,584\n",
            "      BatchNorm2d-14          [-1, 128, 16, 16]             256\n",
            "             ReLU-15          [-1, 128, 16, 16]               0\n",
            "        MaxPool2d-16            [-1, 128, 8, 8]               0\n",
            "           Linear-17                  [-1, 256]       2,097,408\n",
            "             ReLU-18                  [-1, 256]               0\n",
            "          Dropout-19                  [-1, 256]               0\n",
            "           Linear-20                    [-1, 7]           1,799\n",
            "================================================================\n",
            "Total params: 2,340,743\n",
            "Trainable params: 2,340,743\n",
            "Non-trainable params: 0\n",
            "----------------------------------------------------------------\n",
            "Input size (MB): 0.19\n",
            "Forward/backward pass size (MB): 23.57\n",
            "Params size (MB): 8.93\n",
            "Estimated Total Size (MB): 32.69\n",
            "----------------------------------------------------------------\n"
          ]
        }
      ]
    },
    {
      "cell_type": "markdown",
      "source": [
        "# 13. Loss and Optimizer\n",
        "In the cell below, we will create the loss function which will be the Cross Entropy loss. Also we will have create the Adam optimizer and we will provide to it the parameters of the model we created."
      ],
      "metadata": {
        "id": "fnypc3arvzC8"
      }
    },
    {
      "cell_type": "code",
      "source": [
        "# Define loss function and optimizer\n",
        "criterion = nn.CrossEntropyLoss() # Cross Entropy Loss\n",
        "optimizer = Adam(model.parameters(), lr=LR) # Adam optimizer"
      ],
      "metadata": {
        "id": "JLc90YSAbBwj"
      },
      "execution_count": 25,
      "outputs": []
    },
    {
      "cell_type": "markdown",
      "source": [
        "# 14. Training\n",
        "Now comes the training part. If you know well the training process of deep learning. You will just need to know PyTorch syntax. We start by initializing the for loop with the specified number of epochs which we defined before. But before that we define 4 lists and inside the loop we define another 4 variables.\n",
        "\n",
        "## Variables:\n",
        "* `total_acc_train`: here we will keep tracking of the training accuracy progress during each epoch, we calculate the accuracy during the batch size and we print it in the end for tracking the accuracy on each epoch.\n",
        "\n",
        "* `total_loss_train`: here we will keep tracking of the training loss progress during each epoch, we calculate the accuracy during the batch size and we use the loss value to optimize and modify the model parameters.\n",
        "\n",
        "* `total_acc_val`: here we will keep tracking of the validation accuracy progress during each epoch, we calculate the accuracy during the batch size and we print it in the end for tracking the accuracy on each epoch and help us know if there is any overfitting.\n",
        "\n",
        "* `total_loss_val`: here we will keep tracking of the validation loss progress during each epoch, we calculate the accuracy during the batch size.\n",
        "\n",
        "## Lists:\n",
        "* `total_acc_train_plot`: We append the losses of the training accuracy to visualize them at the end.\n",
        "\n",
        "* `total_loss_train_plot`: We append the losses of the training to visualize them at the end.\n",
        "\n",
        "* `total_acc_validation_plot`: We append the losses of the validation accuracy to visualize them at the end.\n",
        "\n",
        "* `total_loss_validation_plot`: We append the losses of the validation to visualize them at the end.\n",
        "\n",
        "\n",
        "Then, we start to loop through the training dataloaders, we use the enumerate functionality to loop through data and indices at the same time. We are not using the indices here, but lets kept it just if you want to try different stuff with the loop or debug. In the second loop, we start by getting our data from the data loader, then we move the inputs and labels to the cuda device. We allow the model to make a prediction or what is called forward propagation, then we get the output of the model and compare it with our original output using the loss criteration. We add the loss amount to `total_loss_train`. Additionally, we get the accuracy by comparing the correct batch with the predicted batch and we add it to the `total_acc_train`. Then we do the `batch_loss.backward()` which makes the backpropagation and we use the optimizer to do a step on the weights using `optimizer.step()` and then we reset the optimizer gradients using `optimizer.zero_grad()` which is a very important step that has to be done before proceeding.\n",
        "\n",
        "After that we exit the batch loop (train dataloader loop) and we start with the validation. Don't forget that we are still in the same epoch. In side that we start by with `torch.no_grad()` so that we freeze the weights, which means that we need the model to do predicitons **without being trained**. We just need to see the validation preformance. Then we do the same steps which are predicting and calculating loss and accuracy and storing these values.\n",
        "\n",
        "At the end we print after each epoch the epoch number, training loss, training accuracy, validation loss and validation accuracy. Accuracies are calculated by dividing the right predictions by the complete number of samples and multiplying by 100. Losses are being divided by 1000 just to normalize the values and avoid large values.\n",
        "\n"
      ],
      "metadata": {
        "id": "ZVOrwojrv1Z4"
      }
    },
    {
      "cell_type": "code",
      "source": [
        "# Lists for plotting (your original format)\n",
        "total_loss_train_plot = []\n",
        "total_loss_validation_plot = []\n",
        "total_acc_train_plot = []\n",
        "total_acc_validation_plot = []\n",
        "\n",
        "# NEW: Lists for logging (clean metrics)\n",
        "epoch_metrics = []  # Store clean metrics for each epoch\n",
        "\n",
        "print(\"Starting training...\")\n",
        "print(\"=\"*50)\n",
        "\n",
        "for epoch in range(EPOCHS):\n",
        "    # Variables to track metrics for current epoch\n",
        "    total_acc_train = 0\n",
        "    total_loss_train = 0\n",
        "    total_loss_val = 0\n",
        "    total_acc_val = 0\n",
        "\n",
        "    # Training phase\n",
        "    model.train()\n",
        "    for inputs, labels in train_loader:\n",
        "        optimizer.zero_grad()\n",
        "        outputs = model(inputs)\n",
        "        train_loss = criterion(outputs, labels)\n",
        "        total_loss_train += train_loss.item()\n",
        "        train_loss.backward()\n",
        "\n",
        "        train_acc = (torch.argmax(outputs, axis=1) == labels).sum().item()\n",
        "        total_acc_train += train_acc\n",
        "        optimizer.step()\n",
        "\n",
        "    # Validation phase\n",
        "    model.eval()\n",
        "    with torch.no_grad():\n",
        "        for inputs, labels in val_loader:\n",
        "            outputs = model(inputs)\n",
        "            val_loss = criterion(outputs, labels)\n",
        "            total_loss_val += val_loss.item()\n",
        "\n",
        "            val_acc = (torch.argmax(outputs, axis=1) == labels).sum().item()\n",
        "            total_acc_val += val_acc\n",
        "\n",
        "    # Calculate clean metrics for logging\n",
        "    train_loss_avg = total_loss_train / len(train_loader)  # Average loss per batch\n",
        "    val_loss_avg = total_loss_val / len(val_loader)        # Average loss per batch\n",
        "    train_acc_pct = (total_acc_train / len(train_dataset)) * 100  # Accuracy percentage\n",
        "    val_acc_pct = (total_acc_val / len(val_dataset)) * 100        # Accuracy percentage\n",
        "\n",
        "    # Store clean metrics for logging\n",
        "    epoch_metrics.append({\n",
        "        'epoch': epoch + 1,\n",
        "        'train_loss': train_loss_avg,\n",
        "        'val_loss': val_loss_avg,\n",
        "        'train_acc': train_acc_pct,\n",
        "        'val_acc': val_acc_pct\n",
        "    })\n",
        "\n",
        "    # Store metrics for plotting (your original format)\n",
        "    total_loss_train_plot.append(round(total_loss_train/1000, 4))\n",
        "    total_loss_validation_plot.append(round(total_loss_val/1000, 4))\n",
        "    total_acc_train_plot.append(round(train_acc_pct, 4))\n",
        "    total_acc_validation_plot.append(round(val_acc_pct, 4))\n",
        "\n",
        "    # Print epoch results\n",
        "    print(f'''Epoch {epoch+1}/{EPOCHS}, Train Loss: {round(total_loss_train/100, 4)} Train Accuracy {round(train_acc_pct, 4)}\n",
        "              Validation Loss: {round(total_loss_val/100, 4)} Validation Accuracy: {round(val_acc_pct, 4)}''')\n",
        "    print(\"=\"*25)\n",
        "\n",
        "print(\"Training completed!\")\n",
        "print(f\"Final Training Accuracy: {total_acc_train_plot[-1]:.2f}%\")\n",
        "print(f\"Final Validation Accuracy: {total_acc_validation_plot[-1]:.2f}%\")\n",
        "print(f\"Clean metrics stored for {len(epoch_metrics)} epochs\")"
      ],
      "metadata": {
        "colab": {
          "base_uri": "https://localhost:8080/"
        },
        "id": "PJqFH59PiOcN",
        "outputId": "26047c27-dafb-4407-ec54-41c24bf87f49"
      },
      "execution_count": 26,
      "outputs": [
        {
          "output_type": "stream",
          "name": "stdout",
          "text": [
            "Starting training...\n",
            "==================================================\n",
            "Epoch 1/10, Train Loss: 19.9459 Train Accuracy 37.4254\n",
            "              Validation Loss: 3.7963 Validation Accuracy: 46.4004\n",
            "=========================\n",
            "Epoch 2/10, Train Loss: 17.368 Train Accuracy 47.4373\n",
            "              Validation Loss: 3.5579 Validation Accuracy: 50.0929\n",
            "=========================\n",
            "Epoch 3/10, Train Loss: 16.0706 Train Accuracy 51.6322\n",
            "              Validation Loss: 3.3483 Validation Accuracy: 52.5314\n",
            "=========================\n",
            "Epoch 4/10, Train Loss: 15.1702 Train Accuracy 54.1998\n",
            "              Validation Loss: 3.2128 Validation Accuracy: 53.9015\n",
            "=========================\n",
            "Epoch 5/10, Train Loss: 14.3711 Train Accuracy 56.7178\n",
            "              Validation Loss: 3.1471 Validation Accuracy: 55.2949\n",
            "=========================\n",
            "Epoch 6/10, Train Loss: 13.6574 Train Accuracy 59.166\n",
            "              Validation Loss: 3.1827 Validation Accuracy: 54.8072\n",
            "=========================\n",
            "Epoch 7/10, Train Loss: 12.9001 Train Accuracy 61.2211\n",
            "              Validation Loss: 3.1126 Validation Accuracy: 55.9916\n",
            "=========================\n",
            "Epoch 8/10, Train Loss: 12.1407 Train Accuracy 63.744\n",
            "              Validation Loss: 3.11 Validation Accuracy: 56.34\n",
            "=========================\n",
            "Epoch 9/10, Train Loss: 11.3849 Train Accuracy 66.0878\n",
            "              Validation Loss: 3.0537 Validation Accuracy: 57.176\n",
            "=========================\n",
            "Epoch 10/10, Train Loss: 10.5963 Train Accuracy 68.2574\n",
            "              Validation Loss: 3.0628 Validation Accuracy: 57.385\n",
            "=========================\n",
            "Training completed!\n",
            "Final Training Accuracy: 68.26%\n",
            "Final Validation Accuracy: 57.38%\n",
            "Clean metrics stored for 10 epochs\n"
          ]
        }
      ]
    },
    {
      "cell_type": "markdown",
      "source": [
        "**Wandb logging**"
      ],
      "metadata": {
        "id": "La93eBOQP-20"
      }
    },
    {
      "cell_type": "code",
      "source": [
        "import wandb\n",
        "\n",
        "# Login to Wandb (you'll need to enter your API key)\n",
        "wandb.login()"
      ],
      "metadata": {
        "colab": {
          "base_uri": "https://localhost:8080/",
          "height": 198
        },
        "id": "6wZnlgsrQGiR",
        "outputId": "cf359083-e3d1-4d51-ba9d-030e27eb0e92"
      },
      "execution_count": 27,
      "outputs": [
        {
          "output_type": "display_data",
          "data": {
            "text/plain": [
              "<IPython.core.display.Javascript object>"
            ],
            "application/javascript": [
              "\n",
              "        window._wandbApiKey = new Promise((resolve, reject) => {\n",
              "            function loadScript(url) {\n",
              "            return new Promise(function(resolve, reject) {\n",
              "                let newScript = document.createElement(\"script\");\n",
              "                newScript.onerror = reject;\n",
              "                newScript.onload = resolve;\n",
              "                document.body.appendChild(newScript);\n",
              "                newScript.src = url;\n",
              "            });\n",
              "            }\n",
              "            loadScript(\"https://cdn.jsdelivr.net/npm/postmate/build/postmate.min.js\").then(() => {\n",
              "            const iframe = document.createElement('iframe')\n",
              "            iframe.style.cssText = \"width:0;height:0;border:none\"\n",
              "            document.body.appendChild(iframe)\n",
              "            const handshake = new Postmate({\n",
              "                container: iframe,\n",
              "                url: 'https://wandb.ai/authorize'\n",
              "            });\n",
              "            const timeout = setTimeout(() => reject(\"Couldn't auto authenticate\"), 5000)\n",
              "            handshake.then(function(child) {\n",
              "                child.on('authorize', data => {\n",
              "                    clearTimeout(timeout)\n",
              "                    resolve(data)\n",
              "                });\n",
              "            });\n",
              "            })\n",
              "        });\n",
              "    "
            ]
          },
          "metadata": {}
        },
        {
          "output_type": "stream",
          "name": "stderr",
          "text": [
            "\u001b[34m\u001b[1mwandb\u001b[0m: Logging into wandb.ai. (Learn how to deploy a W&B server locally: https://wandb.me/wandb-server)\n",
            "\u001b[34m\u001b[1mwandb\u001b[0m: You can find your API key in your browser here: https://wandb.ai/authorize\n",
            "wandb: Paste an API key from your profile and hit enter:"
          ]
        },
        {
          "name": "stdout",
          "output_type": "stream",
          "text": [
            " ··········\n"
          ]
        },
        {
          "output_type": "stream",
          "name": "stderr",
          "text": [
            "\u001b[34m\u001b[1mwandb\u001b[0m: \u001b[33mWARNING\u001b[0m If you're specifying your api key in code, ensure this code is not shared publicly.\n",
            "\u001b[34m\u001b[1mwandb\u001b[0m: \u001b[33mWARNING\u001b[0m Consider setting the WANDB_API_KEY environment variable, or running `wandb login` from the command line.\n",
            "\u001b[34m\u001b[1mwandb\u001b[0m: No netrc file found, creating one.\n",
            "\u001b[34m\u001b[1mwandb\u001b[0m: Appending key for api.wandb.ai to your netrc file: /root/.netrc\n",
            "\u001b[34m\u001b[1mwandb\u001b[0m: Currently logged in as: \u001b[33mglasa21\u001b[0m (\u001b[33mglasa21-free-university-of-tbilisi-\u001b[0m) to \u001b[32mhttps://api.wandb.ai\u001b[0m. Use \u001b[1m`wandb login --relogin`\u001b[0m to force relogin\n"
          ]
        },
        {
          "output_type": "execute_result",
          "data": {
            "text/plain": [
              "True"
            ]
          },
          "metadata": {},
          "execution_count": 27
        }
      ]
    },
    {
      "cell_type": "code",
      "source": [
        "class ExperimentLogger:\n",
        "    def __init__(self, project_name=\"facial-expression-recognition\"):\n",
        "        self.project_name = project_name\n",
        "        self.run = None\n",
        "\n",
        "    def start_experiment(self, experiment_name, model, optimizer, criterion, config=None):\n",
        "        \"\"\"\n",
        "        Start a new experiment with model and training configuration\n",
        "        \"\"\"\n",
        "        # Default config\n",
        "        default_config = {\n",
        "            \"learning_rate\": LR if 'LR' in globals() else 1e-4,\n",
        "            \"batch_size\": BATCH_SIZE if 'BATCH_SIZE' in globals() else 16,\n",
        "            \"epochs\": EPOCHS if 'EPOCHS' in globals() else 10,\n",
        "            \"optimizer\": optimizer.__class__.__name__,\n",
        "            \"loss_function\": criterion.__class__.__name__,\n",
        "            \"image_size\": \"128x128\",\n",
        "            \"num_classes\": 7,\n",
        "            \"dataset\": \"FER2013\"\n",
        "        }\n",
        "\n",
        "        # Add model info\n",
        "        if model:\n",
        "            total_params = sum(p.numel() for p in model.parameters())\n",
        "            trainable_params = sum(p.numel() for p in model.parameters() if p.requires_grad)\n",
        "            default_config.update({\n",
        "                \"total_params\": total_params,\n",
        "                \"trainable_params\": trainable_params,\n",
        "                \"model_architecture\": model.__class__.__name__\n",
        "            })\n",
        "\n",
        "        # Merge with custom config\n",
        "        if config:\n",
        "            default_config.update(config)\n",
        "\n",
        "        # Initialize Wandb run\n",
        "        self.run = wandb.init(\n",
        "            project=self.project_name,\n",
        "            name=experiment_name,\n",
        "            config=default_config,\n",
        "            reinit=True\n",
        "        )\n",
        "\n",
        "        # Log model architecture\n",
        "        if model:\n",
        "            # Log model summary as text\n",
        "            model_summary = str(model)\n",
        "            self.run.summary[\"model_summary\"] = model_summary\n",
        "\n",
        "            # Watch model for gradients and parameters (optional but useful)\n",
        "            wandb.watch(model, log=\"all\", log_freq=100)\n",
        "\n",
        "            print(f\"Model logged to Wandb:\")\n",
        "            print(f\"- Architecture: {model.__class__.__name__}\")\n",
        "            print(f\"- Total parameters: {total_params:,}\")\n",
        "            print(f\"- Model watching enabled for gradients\")\n",
        "\n",
        "        print(f\"Started experiment: {experiment_name}\")\n",
        "        print(f\"Wandb URL: {self.run.url}\")\n",
        "        return self.run\n",
        "\n",
        "    def log_epoch(self, epoch, train_loss, val_loss, train_acc, val_acc, additional_metrics=None):\n",
        "        \"\"\"\n",
        "        Log metrics for one epoch\n",
        "        \"\"\"\n",
        "        if not self.run:\n",
        "            print(\"No active experiment. Call start_experiment() first.\")\n",
        "            return\n",
        "\n",
        "        metrics = {\n",
        "            \"epoch\": epoch,\n",
        "            \"train_loss\": train_loss,\n",
        "            \"val_loss\": val_loss,\n",
        "            \"train_accuracy\": train_acc,\n",
        "            \"val_accuracy\": val_acc,\n",
        "            \"train_val_acc_gap\": train_acc - val_acc\n",
        "        }\n",
        "\n",
        "        # Add any additional metrics\n",
        "        if additional_metrics:\n",
        "            metrics.update(additional_metrics)\n",
        "\n",
        "        wandb.log(metrics)\n",
        "\n",
        "    def log_final_results(self, final_train_acc, final_val_acc, max_val_acc=None, analysis_notes=\"\", model=None):\n",
        "        \"\"\"\n",
        "        Log final experiment results and analysis\n",
        "        \"\"\"\n",
        "        if not self.run:\n",
        "            print(\"No active experiment. Call start_experiment() first.\")\n",
        "            return\n",
        "\n",
        "        wandb.log({\n",
        "            \"final_train_accuracy\": final_train_acc,\n",
        "            \"final_val_accuracy\": final_val_acc,\n",
        "            \"final_overfitting_gap\": final_train_acc - final_val_acc,\n",
        "            \"max_val_accuracy\": max_val_acc or final_val_acc\n",
        "        })\n",
        "\n",
        "        # Add analysis to run summary\n",
        "        self.run.summary[\"overfitting_gap\"] = final_train_acc - final_val_acc\n",
        "        if analysis_notes:\n",
        "            self.run.summary[\"analysis_notes\"] = analysis_notes\n",
        "\n",
        "        # Save model if provided\n",
        "        if model:\n",
        "            # Save model state dict\n",
        "            model_path = f\"model_{self.run.name}.pth\"\n",
        "            torch.save(model.state_dict(), model_path)\n",
        "\n",
        "            # Log model as artifact\n",
        "            model_artifact = wandb.Artifact(\n",
        "                name=f\"model_{self.run.name}\",\n",
        "                type=\"model\",\n",
        "                description=f\"Trained model for {self.run.name}\"\n",
        "            )\n",
        "            model_artifact.add_file(model_path)\n",
        "            self.run.log_artifact(model_artifact)\n",
        "\n",
        "            print(f\"Model saved and logged as artifact: {model_path}\")\n",
        "\n",
        "    def save_model_checkpoint(self, model, epoch, checkpoint_name=None):\n",
        "        \"\"\"\n",
        "        Save model checkpoint during training\n",
        "        \"\"\"\n",
        "        if not self.run:\n",
        "            print(\"No active experiment. Call start_experiment() first.\")\n",
        "            return\n",
        "\n",
        "        checkpoint_name = checkpoint_name or f\"checkpoint_epoch_{epoch}\"\n",
        "        checkpoint_path = f\"{checkpoint_name}.pth\"\n",
        "\n",
        "        checkpoint = {\n",
        "            'epoch': epoch,\n",
        "            'model_state_dict': model.state_dict(),\n",
        "            'model_architecture': str(model)\n",
        "        }\n",
        "\n",
        "        torch.save(checkpoint, checkpoint_path)\n",
        "\n",
        "        # Log as artifact\n",
        "        checkpoint_artifact = wandb.Artifact(\n",
        "            name=checkpoint_name,\n",
        "            type=\"checkpoint\",\n",
        "            description=f\"Model checkpoint at epoch {epoch}\"\n",
        "        )\n",
        "        checkpoint_artifact.add_file(checkpoint_path)\n",
        "        self.run.log_artifact(checkpoint_artifact)\n",
        "\n",
        "        print(f\"Checkpoint saved: {checkpoint_path}\")\n",
        "\n",
        "    def finish_experiment(self):\n",
        "        \"\"\"\n",
        "        Finish the current experiment\n",
        "        \"\"\"\n",
        "        if self.run:\n",
        "            wandb.finish()\n",
        "            self.run = None\n",
        "            print(\"Experiment finished!\")\n",
        "\n",
        "# Create global logger instance\n",
        "logger = ExperimentLogger()"
      ],
      "metadata": {
        "id": "9QTpusEkQWvM"
      },
      "execution_count": 28,
      "outputs": []
    },
    {
      "cell_type": "code",
      "source": [
        "# STEP 1: Start experiment with updated config for ImprovedCNN v3\n",
        "custom_config = {\n",
        "    \"conv_layers\": 4,\n",
        "    \"fc_layers\": 2,\n",
        "    \"filters\": \"32->64->128->128\",\n",
        "    \"dropout\": 0.3,\n",
        "    \"weight_decay\": 1e-5,\n",
        "    \"architecture_type\": \"Balanced depth + width\",\n",
        "    \"model_description\": \"ImprovedCNN v3 - Fixed aggressive scaling issues, balanced 4-layer architecture\",\n",
        "    \"fixes_applied\": \"Gradual filters, smaller FC (8K vs 65K), conservative hyperparams\",\n",
        "    \"lessons_learned\": \"FacialCNN failed due to aggressive scaling (3->64 filters, 65K FC layer)\",\n",
        "    \"target_performance\": \"Return to 50-55% validation accuracy after failed experiment\"\n",
        "}\n",
        "\n",
        "logger.start_experiment(\n",
        "    experiment_name=\"improved-cnn-v3-balanced\",\n",
        "    model=model,\n",
        "    optimizer=optimizer,\n",
        "    criterion=criterion,\n",
        "    config=custom_config\n",
        ")\n",
        "\n",
        "# STEP 2: After training, log all epochs\n",
        "for metrics in epoch_metrics:\n",
        "    logger.log_epoch(\n",
        "        epoch=metrics['epoch'],\n",
        "        train_loss=metrics['train_loss'],\n",
        "        val_loss=metrics['val_loss'],\n",
        "        train_acc=metrics['train_acc'],\n",
        "        val_acc=metrics['val_acc']\n",
        "    )\n",
        "\n",
        "print(\"All training data logged to Wandb!\")\n",
        "\n",
        "# STEP 3: Log final results with updated analysis\n",
        "analysis_notes = \"\"\"ImprovedCNN v3 - Balanced Architecture Analysis:\n",
        "- Architecture: 4 conv layers (32->64->128->128) + 2 FC layers (8K->256->7)\n",
        "- Key fixes: Gradual filter scaling (not 3->64 jump), much smaller FC layer (8K vs 65K)\n",
        "- Hyperparams: LR=1e-4 (conservative), BS=16, Epochs=12, Weight_decay=1e-5\n",
        "- Previous failure: FacialCNN got ~12% acc due to aggressive scaling and massive FC layer\n",
        "- This approach: Return to incremental improvements, proven architecture patterns\n",
        "- Performance target: 50-55% validation accuracy (recovery from failed experiment)\n",
        "- Next steps: If successful, try controlled improvements like data augmentation or residual connections\"\"\"\n",
        "\n",
        "logger.log_final_results(\n",
        "    final_train_acc=total_acc_train_plot[-1],\n",
        "    final_val_acc=total_acc_validation_plot[-1],\n",
        "    max_val_acc=max(total_acc_validation_plot),\n",
        "    analysis_notes=analysis_notes,\n",
        "    model=model\n",
        ")\n",
        "\n",
        "# STEP 4: Finish experiment\n",
        "logger.finish_experiment()\n",
        "\n",
        "print(f\"ImprovedCNN v3 experiment completed!\")\n",
        "print(f\"Architecture evolution: SimpleCNN v1 -> v2 (52.5%) -> FacialCNN (FAILED ~12%) -> ImprovedCNN v3\")\n",
        "print(f\"Next experiment: If successful, try improved-cnn-v4-[augmentation/residual/attention]\")"
      ],
      "metadata": {
        "colab": {
          "base_uri": "https://localhost:8080/",
          "height": 1000
        },
        "id": "3jFPAh_lRibs",
        "outputId": "3eb72009-7d25-457f-a186-00406b62cac7"
      },
      "execution_count": 29,
      "outputs": [
        {
          "output_type": "stream",
          "name": "stderr",
          "text": [
            "\u001b[34m\u001b[1mwandb\u001b[0m: \u001b[33mWARNING\u001b[0m Using a boolean value for 'reinit' is deprecated. Use 'return_previous' or 'finish_previous' instead.\n"
          ]
        },
        {
          "output_type": "display_data",
          "data": {
            "text/plain": [
              "<IPython.core.display.HTML object>"
            ],
            "text/html": [
              "Tracking run with wandb version 0.20.1"
            ]
          },
          "metadata": {}
        },
        {
          "output_type": "display_data",
          "data": {
            "text/plain": [
              "<IPython.core.display.HTML object>"
            ],
            "text/html": [
              "Run data is saved locally in <code>/content/wandb/run-20250607_132314-i6yvmcmw</code>"
            ]
          },
          "metadata": {}
        },
        {
          "output_type": "display_data",
          "data": {
            "text/plain": [
              "<IPython.core.display.HTML object>"
            ],
            "text/html": [
              "Syncing run <strong><a href='https://wandb.ai/glasa21-free-university-of-tbilisi-/facial-expression-recognition/runs/i6yvmcmw' target=\"_blank\">improved-cnn-v3-balanced</a></strong> to <a href='https://wandb.ai/glasa21-free-university-of-tbilisi-/facial-expression-recognition' target=\"_blank\">Weights & Biases</a> (<a href='https://wandb.me/developer-guide' target=\"_blank\">docs</a>)<br>"
            ]
          },
          "metadata": {}
        },
        {
          "output_type": "display_data",
          "data": {
            "text/plain": [
              "<IPython.core.display.HTML object>"
            ],
            "text/html": [
              " View project at <a href='https://wandb.ai/glasa21-free-university-of-tbilisi-/facial-expression-recognition' target=\"_blank\">https://wandb.ai/glasa21-free-university-of-tbilisi-/facial-expression-recognition</a>"
            ]
          },
          "metadata": {}
        },
        {
          "output_type": "display_data",
          "data": {
            "text/plain": [
              "<IPython.core.display.HTML object>"
            ],
            "text/html": [
              " View run at <a href='https://wandb.ai/glasa21-free-university-of-tbilisi-/facial-expression-recognition/runs/i6yvmcmw' target=\"_blank\">https://wandb.ai/glasa21-free-university-of-tbilisi-/facial-expression-recognition/runs/i6yvmcmw</a>"
            ]
          },
          "metadata": {}
        },
        {
          "output_type": "stream",
          "name": "stdout",
          "text": [
            "Model logged to Wandb:\n",
            "- Architecture: ImprovedCNN\n",
            "- Total parameters: 2,340,743\n",
            "- Model watching enabled for gradients\n",
            "Started experiment: improved-cnn-v3-balanced\n",
            "Wandb URL: https://wandb.ai/glasa21-free-university-of-tbilisi-/facial-expression-recognition/runs/i6yvmcmw\n",
            "All training data logged to Wandb!\n",
            "Model saved and logged as artifact: model_improved-cnn-v3-balanced.pth\n"
          ]
        },
        {
          "output_type": "display_data",
          "data": {
            "text/plain": [
              "<IPython.core.display.HTML object>"
            ],
            "text/html": []
          },
          "metadata": {}
        },
        {
          "output_type": "display_data",
          "data": {
            "text/plain": [
              "<IPython.core.display.HTML object>"
            ],
            "text/html": [
              "<br>    <style><br>        .wandb-row {<br>            display: flex;<br>            flex-direction: row;<br>            flex-wrap: wrap;<br>            justify-content: flex-start;<br>            width: 100%;<br>        }<br>        .wandb-col {<br>            display: flex;<br>            flex-direction: column;<br>            flex-basis: 100%;<br>            flex: 1;<br>            padding: 10px;<br>        }<br>    </style><br><div class=\"wandb-row\"><div class=\"wandb-col\"><h3>Run history:</h3><br/><table class=\"wandb\"><tr><td>epoch</td><td>▁▂▃▃▄▅▆▆▇█</td></tr><tr><td>final_overfitting_gap</td><td>▁</td></tr><tr><td>final_train_accuracy</td><td>▁</td></tr><tr><td>final_val_accuracy</td><td>▁</td></tr><tr><td>max_val_accuracy</td><td>▁</td></tr><tr><td>train_accuracy</td><td>▁▃▄▅▅▆▆▇██</td></tr><tr><td>train_loss</td><td>█▆▅▄▄▃▃▂▂▁</td></tr><tr><td>train_val_acc_gap</td><td>▁▃▄▄▅▆▆▇▇█</td></tr><tr><td>val_accuracy</td><td>▁▃▅▆▇▆▇▇██</td></tr><tr><td>val_loss</td><td>█▆▄▂▂▂▂▂▁▁</td></tr></table><br/></div><div class=\"wandb-col\"><h3>Run summary:</h3><br/><table class=\"wandb\"><tr><td>analysis_notes</td><td>ImprovedCNN v3 - Bal...</td></tr><tr><td>epoch</td><td>10</td></tr><tr><td>final_overfitting_gap</td><td>10.8724</td></tr><tr><td>final_train_accuracy</td><td>68.2574</td></tr><tr><td>final_val_accuracy</td><td>57.385</td></tr><tr><td>max_val_accuracy</td><td>57.385</td></tr><tr><td>model_summary</td><td>ImprovedCNN(<br>  (conv...</td></tr><tr><td>overfitting_gap</td><td>10.8724</td></tr><tr><td>train_accuracy</td><td>68.25736</td></tr><tr><td>train_loss</td><td>0.84366</td></tr><tr><td>train_val_acc_gap</td><td>10.87232</td></tr><tr><td>val_accuracy</td><td>57.38504</td></tr><tr><td>val_loss</td><td>1.13436</td></tr></table><br/></div></div>"
            ]
          },
          "metadata": {}
        },
        {
          "output_type": "display_data",
          "data": {
            "text/plain": [
              "<IPython.core.display.HTML object>"
            ],
            "text/html": [
              " View run <strong style=\"color:#cdcd00\">improved-cnn-v3-balanced</strong> at: <a href='https://wandb.ai/glasa21-free-university-of-tbilisi-/facial-expression-recognition/runs/i6yvmcmw' target=\"_blank\">https://wandb.ai/glasa21-free-university-of-tbilisi-/facial-expression-recognition/runs/i6yvmcmw</a><br> View project at: <a href='https://wandb.ai/glasa21-free-university-of-tbilisi-/facial-expression-recognition' target=\"_blank\">https://wandb.ai/glasa21-free-university-of-tbilisi-/facial-expression-recognition</a><br>Synced 5 W&B file(s), 0 media file(s), 2 artifact file(s) and 0 other file(s)"
            ]
          },
          "metadata": {}
        },
        {
          "output_type": "display_data",
          "data": {
            "text/plain": [
              "<IPython.core.display.HTML object>"
            ],
            "text/html": [
              "Find logs at: <code>./wandb/run-20250607_132314-i6yvmcmw/logs</code>"
            ]
          },
          "metadata": {}
        },
        {
          "output_type": "stream",
          "name": "stdout",
          "text": [
            "Experiment finished!\n",
            "ImprovedCNN v3 experiment completed!\n",
            "Architecture evolution: SimpleCNN v1 -> v2 (52.5%) -> FacialCNN (FAILED ~12%) -> ImprovedCNN v3\n",
            "Next experiment: If successful, try improved-cnn-v4-[augmentation/residual/attention]\n"
          ]
        }
      ]
    },
    {
      "cell_type": "markdown",
      "source": [
        "# 15. Testing\n",
        "Now in this section, we will be testing our model, we will start the code by with `torch.no_grad():` which means that we are telling PyTorch that we don't want to train the model we will be using it only for testing. Then we will declare initial loss and accuracy as zeros, we will start by looping through the testing dataloader like we did before during training. Inside the loop, we got our data and we moved it to our GPU (`cuda`) and then we ran our model on the data and we got the predictions. After that we get the loss and then we add it to our overall loss, we do the same for accuracy, and finally we print the accuracy."
      ],
      "metadata": {
        "id": "YqwKmHdIv3hm"
      }
    },
    {
      "cell_type": "code",
      "source": [
        "# with torch.no_grad():\n",
        "#   total_loss_test = 0\n",
        "#   total_acc_test = 0\n",
        "#   for inputs, labels in test_loader:\n",
        "#     predictions = model(inputs)\n",
        "\n",
        "#     acc = (torch.argmax(predictions, axis = 1) == labels).sum().item()\n",
        "#     total_acc_test += acc\n",
        "#     test_loss = criterion(predictions, labels)\n",
        "#     total_loss_test += test_loss.item()\n",
        "\n",
        "# print(f\"Accuracy Score is: {round((total_acc_test/test_dataset.__len__()) * 100, 4)} and Loss is {round(total_loss_test/1000, 4)}\")"
      ],
      "metadata": {
        "colab": {
          "base_uri": "https://localhost:8080/"
        },
        "id": "OGi1PMUCBJR0",
        "outputId": "59bc8d1a-763e-42c5-b7c5-47962f7b9925"
      },
      "execution_count": null,
      "outputs": [
        {
          "output_type": "stream",
          "name": "stdout",
          "text": [
            "Accuracy Score is: 96.5688 and Loss is 0.0165\n"
          ]
        }
      ]
    },
    {
      "cell_type": "markdown",
      "source": [
        "# 16. Plotting Training Progress\n",
        "Let's plot the training and validation progress through out the `EPOCHS`. The results may not be very good, feel free to play with the layers, hyperparameters and text filteration to achieve better performance!\n"
      ],
      "metadata": {
        "id": "Bg-cZwbAv5q4"
      }
    },
    {
      "cell_type": "code",
      "source": [
        "fig, axs = plt.subplots(nrows=1, ncols=2, figsize=(15, 5))\n",
        "\n",
        "axs[0].plot(total_loss_train_plot, label='Training Loss')\n",
        "axs[0].plot(total_loss_validation_plot, label='Validation Loss')\n",
        "axs[0].set_title('Training and Validation Loss over Epochs')\n",
        "axs[0].set_xlabel('Epochs')\n",
        "axs[0].set_ylabel('Loss')\n",
        "axs[0].legend()\n",
        "\n",
        "axs[1].plot(total_acc_train_plot, label='Training Accuracy')\n",
        "axs[1].plot(total_acc_validation_plot, label='Validation Accuracy')\n",
        "axs[1].set_title('Training and Validation Accuracy over Epochs')\n",
        "axs[1].set_xlabel('Epochs')\n",
        "axs[1].set_ylabel('Accuracy')\n",
        "axs[1].legend()\n",
        "\n",
        "plt.tight_layout()\n",
        "\n",
        "plt.show()"
      ],
      "metadata": {
        "id": "8EDIakLQSzYI",
        "colab": {
          "base_uri": "https://localhost:8080/",
          "height": 507
        },
        "outputId": "159782c2-1a81-45fc-e4f2-86f3a9d3ed65"
      },
      "execution_count": null,
      "outputs": [
        {
          "output_type": "display_data",
          "data": {
            "text/plain": [
              "<Figure size 1500x500 with 2 Axes>"
            ],
            "image/png": "[encoded data removed]"
          },
          "metadata": {}
        }
      ]
    }
  ]
}